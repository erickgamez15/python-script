{
 "cells": [
  {
   "cell_type": "code",
   "execution_count": null,
   "metadata": {},
   "outputs": [],
   "source": [
    "import pandas as pd"
   ]
  },
  {
   "cell_type": "code",
   "execution_count": null,
   "metadata": {},
   "outputs": [],
   "source": [
    "path = r'dataSource/Skills_y_Capacity V8.xlsm'\n",
    "hr = (1,2)\n",
    "df_Conocimiento = pd.read_excel(path, sheet_name ='Conocimiento', header = hr, engine='openpyxl')\n",
    "df_Herramientas = pd.read_excel(path, sheet_name ='Herramientas', header = hr, engine='openpyxl')"
   ]
  },
  {
   "cell_type": "code",
   "execution_count": null,
   "metadata": {},
   "outputs": [],
   "source": [
    "df_Conocimiento = df_Conocimiento.dropna().reset_index(drop=True)\n",
    "df_list_Conocimiento = []\n",
    "areas_Conocimiento = df_Conocimiento.columns.get_level_values(0)[2:]\n",
    "skills_Conocimiento = df_Conocimiento.columns.get_level_values(1)[2:]"
   ]
  },
  {
   "cell_type": "code",
   "execution_count": null,
   "metadata": {},
   "outputs": [],
   "source": [
    "for _, row in df_Conocimiento.iterrows():\n",
    "    id = row['Unnamed: 0_level_0', 'TalentID']\n",
    "    nombre = row['Unnamed: 1_level_0', 'Nombre']\n",
    "    \n",
    "    for area in areas_Conocimiento:\n",
    "        area_info = row[area]\n",
    "        \n",
    "        for skill in skills_Conocimiento:\n",
    "            try:\n",
    "                score = area_info[skill]\n",
    "                df_list_Conocimiento.append([id, nombre, area, skill, score])\n",
    "            except KeyError:\n",
    "                continue"
   ]
  },
  {
   "cell_type": "code",
   "execution_count": null,
   "metadata": {},
   "outputs": [],
   "source": [
    "df_csv_Conocimiento = pd.DataFrame(df_list_Conocimiento, columns=['ID', 'Nombre', 'Area', 'Skill', 'Score'])\n",
    "df_csv_Conocimiento = df_csv_Conocimiento.drop_duplicates(keep='first')\n",
    "df_csv_Conocimiento.to_csv(r'processedData/conocimientos.csv', encoding='utf-8-sig', index=False)"
   ]
  },
  {
   "cell_type": "code",
   "execution_count": null,
   "metadata": {},
   "outputs": [],
   "source": [
    "df_Herramientas = df_Herramientas.dropna().reset_index(drop=True)\n",
    "df_list_Herramientas = []\n",
    "areas_Herramientas = df_Herramientas.columns.get_level_values(0)[2:]\n",
    "skills_Herramientas= df_Herramientas.columns.get_level_values(1)[2:]"
   ]
  },
  {
   "cell_type": "code",
   "execution_count": null,
   "metadata": {},
   "outputs": [],
   "source": [
    "for _, row in df_Herramientas.iterrows():\n",
    "    id = row['Unnamed: 0_level_0', 'TalentID']\n",
    "    nombre = row['Unnamed: 1_level_0', 'Nombre']\n",
    "    \n",
    "    for area in areas_Herramientas:\n",
    "        area_info = row[area]\n",
    "        \n",
    "        for skill in skills_Herramientas:\n",
    "            try:\n",
    "                score = area_info[skill]\n",
    "                df_list_Herramientas.append([id, nombre, area, skill, score])\n",
    "            except KeyError:\n",
    "                continue"
   ]
  },
  {
   "cell_type": "code",
   "execution_count": null,
   "metadata": {},
   "outputs": [],
   "source": [
    "df_csv_Herramientas = pd.DataFrame(df_list_Herramientas, columns=['ID', 'Nombre', 'Area', 'Skill', 'Score'])\n",
    "df_csv_Herramientas = df_csv_Herramientas.drop_duplicates(keep='first')\n",
    "df_csv_Herramientas.to_csv(r'processedData/herramientas.csv', encoding='utf-8-sig', index=False)"
   ]
  }
 ],
 "metadata": {
  "kernelspec": {
   "display_name": "Python 3",
   "language": "python",
   "name": "python3"
  },
  "language_info": {
   "codemirror_mode": {
    "name": "ipython",
    "version": 3
   },
   "file_extension": ".py",
   "mimetype": "text/x-python",
   "name": "python",
   "nbconvert_exporter": "python",
   "pygments_lexer": "ipython3",
   "version": "3.10.6"
  },
  "orig_nbformat": 4
 },
 "nbformat": 4,
 "nbformat_minor": 2
}
